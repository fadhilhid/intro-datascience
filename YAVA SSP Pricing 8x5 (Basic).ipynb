{
 "cells": [
  {
   "cell_type": "code",
   "execution_count": 7,
   "id": "96371de5",
   "metadata": {},
   "outputs": [],
   "source": [
    "#Defining price per module\n",
    "def calculate_module_price(total_development_cost, amortization_period, monthly_operational_cost, profit_margin, expected_number_of_nodes):\n",
    "    \"\"\"\n",
    "    Calculate the price per node for a module.\n",
    "\n",
    "    :param total_development_cost: Total development cost for the module\n",
    "    :param amortization_period: Amortization period in months\n",
    "    :param monthly_operational_cost: Monthly operational cost per node\n",
    "    :param profit_margin: Desired profit margin (percentage)\n",
    "    :param expected_number_of_nodes: Expected number of nodes\n",
    "    :return: Final price per node for the module\n",
    "    \"\"\"\n",
    "    # Calculate the amortized development cost per node per month\n",
    "    amortized_cost_per_node_per_month = total_development_cost / (amortization_period * expected_number_of_nodes)\n",
    "    # Calculate the base price per node\n",
    "    base_price_per_node = amortized_cost_per_node_per_month + monthly_operational_cost\n",
    "    # Calculate the final price per node with profit margin\n",
    "    final_price_per_node = base_price_per_node * (1 + profit_margin / 100)\n",
    "    \n",
    "    return final_price_per_node"
   ]
  },
  {
   "cell_type": "code",
   "execution_count": 9,
   "id": "e43502a3",
   "metadata": {
    "scrolled": true
   },
   "outputs": [
    {
     "ename": "SyntaxError",
     "evalue": "expression expected after dictionary key and ':' (1353747612.py, line 3)",
     "output_type": "error",
     "traceback": [
      "\u001b[1;36m  Cell \u001b[1;32mIn[9], line 3\u001b[1;36m\u001b[0m\n\u001b[1;33m    'total_development_cost': ,\u001b[0m\n\u001b[1;37m                            ^\u001b[0m\n\u001b[1;31mSyntaxError\u001b[0m\u001b[1;31m:\u001b[0m expression expected after dictionary key and ':'\n"
     ]
    }
   ],
   "source": [
    "# Define the parameters for each module\n",
    "YAVA = {\n",
    "    'total_development_cost': ,\n",
    "    'amortization_period': 96,\n",
    "    'monthly_operational_cost': ,\n",
    "    'profit_margin': \n",
    "}\n",
    "\n",
    "YavAI = {\n",
    "    'total_development_cost': ,\n",
    "    'amortization_period': 96,\n",
    "    'monthly_operational_cost': ,\n",
    "    'profit_margin': \n",
    "}\n",
    "\n",
    "Container = {\n",
    "    'total_development_cost': ,\n",
    "    'amortization_period': 96,\n",
    "    'monthly_operational_cost': ,\n",
    "    'profit_margin': \n",
    "}\n",
    "\n",
    "Blockchain = {\n",
    "    'total_development_cost': ,\n",
    "    'amortization_period': 96,\n",
    "    'monthly_operational_cost': ,\n",
    "    'profit_margin': \n",
    "}\n",
    "\n",
    "Cybersecurity = {\n",
    "    'total_development_cost': ,\n",
    "    'amortization_period': 96,\n",
    "    'monthly_operational_cost': ,\n",
    "    'profit_margin': \n",
    "}\n",
    "\n",
    "RDBMS = {\n",
    "    'total_development_cost': ,\n",
    "    'amortization_period': 96,\n",
    "    'monthly_operational_cost': ,\n",
    "    'profit_margin': \n",
    "}\n",
    "\n",
    "# Expected number of nodes\n",
    "expected_number_of_nodes = \n"
   ]
  },
  {
   "cell_type": "code",
   "execution_count": null,
   "id": "e5ec7ac5",
   "metadata": {},
   "outputs": [],
   "source": [
    "# Calculate the price per node for each module\n",
    "YAVA = calculate_module_price(\n",
    "    YAVA['total_development_cost'],\n",
    "    YAVA['amortization_period'],\n",
    "    YAVA['monthly_operational_cost'],\n",
    "    YAVA['profit_margin'],\n",
    "    expected_number_of_nodes\n",
    ")\n",
    "\n",
    "YavAI = calculate_module_price(\n",
    "    YavAI['total_development_cost'],\n",
    "    YavAI['amortization_period'],\n",
    "    YavAI['monthly_operational_cost'],\n",
    "    YavAI['profit_margin'],\n",
    "    expected_number_of_nodes\n",
    ")\n",
    "\n",
    "Container = calculate_module_price(\n",
    "    Container['total_development_cost'],\n",
    "    Container['amortization_period'],\n",
    "    Container['monthly_operational_cost'],\n",
    "    Container['profit_margin'],\n",
    "    expected_number_of_nodes\n",
    ")\n",
    "\n",
    "Blockchain = calculate_module_price(\n",
    "    Blockchain['total_development_cost'],\n",
    "    Blockchain['amortization_period'],\n",
    "    Blockchain['monthly_operational_cost'],\n",
    "    Blockchain['profit_margin'],\n",
    "    expected_number_of_nodes\n",
    ")\n",
    "\n",
    "Cybersecurity = calculate_module_price(\n",
    "    Cybersecurity['total_development_cost'],\n",
    "    Cybersecurity['amortization_period'],\n",
    "    Cybersecurity['monthly_operational_cost'],\n",
    "    Cybersecurity['profit_margin'],\n",
    "    expected_number_of_nodes\n",
    ")\n",
    "\n",
    "RDBMS = calculate_module_price(\n",
    "    RDBMS['total_development_cost'],\n",
    "    RDBMS['amortization_period'],\n",
    "    RDBMS['monthly_operational_cost'],\n",
    "    RDBMS['profit_margin'],\n",
    "    expected_number_of_nodes\n",
    ")"
   ]
  },
  {
   "cell_type": "code",
   "execution_count": null,
   "id": "6ae716af",
   "metadata": {},
   "outputs": [],
   "source": [
    "# Calculate the final product price per node\n",
    "YAVA_SSP = YAVA + YavAI + Container + Blockchain + Cybersecurity + RDBMS\n",
    "\n",
    "# Print the results\n",
    "print(f\"Price per node for YAVA: Rp{YAVA:.2f}\")\n",
    "print(f\"Price per node for YavAI: Rp{YavAI:.2f}\")\n",
    "print(f\"Price per node for Container: Rp{Container:.2f}\")\n",
    "print(f\"Price per node for Blockchain: Rp{Blockchain:.2f}\")\n",
    "print(f\"Price per node for Cybersecurity: Rp{Cybersecurity:.2f}\")\n",
    "print(f\"Price per node for RDBMS: Rp{RDBMS:.2f}\")\n",
    "print(f\"YAVA SSP per Node: Rp{YAVA_SSP:.2f}\")"
   ]
  },
  {
   "cell_type": "code",
   "execution_count": null,
   "id": "da19f545",
   "metadata": {},
   "outputs": [],
   "source": [
    "# Optional: Calculate the annual price per node\n",
    "annual_product_price_per_node = YAVA_SSP * 12\n",
    "print(f\"YAVA SSP (annual): ${annual_product_price_per_node:.2f}\")"
   ]
  }
 ],
 "metadata": {
  "kernelspec": {
   "display_name": "Python 3 (ipykernel)",
   "language": "python",
   "name": "python3"
  },
  "language_info": {
   "codemirror_mode": {
    "name": "ipython",
    "version": 3
   },
   "file_extension": ".py",
   "mimetype": "text/x-python",
   "name": "python",
   "nbconvert_exporter": "python",
   "pygments_lexer": "ipython3",
   "version": "3.11.5"
  }
 },
 "nbformat": 4,
 "nbformat_minor": 5
}
