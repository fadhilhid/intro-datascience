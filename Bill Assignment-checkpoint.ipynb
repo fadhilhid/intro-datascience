{
 "cells": [
  {
   "cell_type": "code",
   "execution_count": 1,
   "id": "da9f229c",
   "metadata": {},
   "outputs": [],
   "source": [
    "# List of orders\n",
    "orders = [\n",
    "    (\"La Burrata\", 87000, \"Ferry\"),\n",
    "    (\"Piatto di Formaggi\", 70000, \"All\"),\n",
    "    (\"Spaghetti Aglio Olio e Pepperoncino\", 35000, \"Fadhil\"),\n",
    "    (\"Linguine Cremosi con Bistecca\", 105000, \"Ferry\"),\n",
    "    (\"Ravioli con Ricotta Spinaci\", 38000, \"Rizky\"),\n",
    "    (\"Gnocchi Cremosi alle Noci\", 43000, \"Fadhil\"),\n",
    "    (\"Risotto Spinaci ai Funghi\", 88000, \"Merla\"),\n",
    "    (\"Giorno e Speciale\", 103000, \"Rizky\"),\n",
    "    (\"Panna Cotta\", 32000, \"Ferry\"),\n",
    "    (\"Hot Chocolate\", 28000, \"Merla\"),\n",
    "    (\"Ice Peach Tea\", 25000, \"Fadhil\"),\n",
    "    (\"Ice Peach Tea\", 25000, \"Ferry\"),\n",
    "    (\"Ice Strawberry Tea\", 25000, \"Rizky\"),\n",
    "    (\"Mineral Water\", 10000, \"Rizky\")\n",
    "]"
   ]
  },
  {
   "cell_type": "code",
   "execution_count": 2,
   "id": "87f00118",
   "metadata": {},
   "outputs": [
    {
     "name": "stdout",
     "output_type": "stream",
     "text": [
      "[('La Burrata', 87000, 'Ferry'), ('Piatto di Formaggi', 70000, 'All'), ('Spaghetti Aglio Olio e Pepperoncino', 35000, 'Fadhil'), ('Linguine Cremosi con Bistecca', 105000, 'Ferry'), ('Ravioli con Ricotta Spinaci', 38000, 'Rizky'), ('Gnocchi Cremosi alle Noci', 43000, 'Fadhil'), ('Risotto Spinaci ai Funghi', 88000, 'Merla'), ('Giorno e Speciale', 103000, 'Rizky'), ('Panna Cotta', 32000, 'Ferry'), ('Hot Chocolate', 28000, 'Merla'), ('Ice Peach Tea', 25000, 'Fadhil'), ('Ice Peach Tea', 25000, 'Ferry'), ('Ice Strawberry Tea', 25000, 'Rizky'), ('Mineral Water', 10000, 'Rizky')]\n"
     ]
    }
   ],
   "source": [
    "#KODE SALAH JANGAN DI RUN\n",
    "print (orders)"
   ]
  },
  {
   "cell_type": "code",
   "execution_count": 4,
   "id": "7043b59b",
   "metadata": {},
   "outputs": [],
   "source": [
    "#KODE SALAH JANGAN DI RUN\n",
    "# Tax and service charge percentages\n",
    "service_charge_percentage = 5\n",
    "tax_percentage = 10\n",
    "total_bill = 0\n",
    "individual_payments = {\"Fadhil\": 0, \"Ferry\": 0, \"Rizky\": 0, \"Merla\": 0}"
   ]
  },
  {
   "cell_type": "code",
   "execution_count": 5,
   "id": "f131d2e2",
   "metadata": {},
   "outputs": [
    {
     "name": "stdout",
     "output_type": "stream",
     "text": [
      "0\n"
     ]
    }
   ],
   "source": [
    "#print (total_bill)"
   ]
  },
  {
   "cell_type": "code",
   "execution_count": 9,
   "id": "c67e79a5",
   "metadata": {},
   "outputs": [
    {
     "name": "stdout",
     "output_type": "stream",
     "text": [
      "{'Fadhil': 361500.0, 'Ferry': 799500.0, 'Rizky': 580500.0, 'Merla': 400500.0}\n",
      "2142000\n"
     ]
    }
   ],
   "source": [
    "#KODE SALAH JANGAN DI RUN\n",
    "#for item, price, person in orders:\n",
    "    #total_bill += price\n",
    "    #if person == \"All\":\n",
    "        #for name in individual_payments.keys():\n",
    "            #individual_payments[name] += price / 4\n",
    "    #else:\n",
    "       # individual_payments[person] += price\n",
    "#print (individual_payments)\n",
    "#print (total_bill)"
   ]
  },
  {
   "cell_type": "code",
   "execution_count": 8,
   "id": "0e269412",
   "metadata": {},
   "outputs": [
    {
     "name": "stdout",
     "output_type": "stream",
     "text": [
      "142800.0 71400.0\n"
     ]
    }
   ],
   "source": [
    "#KODE SALAH JANGAN DI RUN\n",
    "#tax = total_bill * tax_percentage / 100\n",
    "#service_charge = total_bill * service_charge_percentage / 100\n",
    "#print (tax,service_charge)"
   ]
  },
  {
   "cell_type": "code",
   "execution_count": 11,
   "id": "29ab07cf",
   "metadata": {},
   "outputs": [
    {
     "name": "stdout",
     "output_type": "stream",
     "text": [
      "{'Fadhil': 468600.0, 'Ferry': 853050.0, 'Rizky': 634050.0, 'Merla': 454050.0}\n",
      "{'Fadhil': 468600.0, 'Ferry': 906600.0, 'Rizky': 634050.0, 'Merla': 454050.0}\n",
      "{'Fadhil': 468600.0, 'Ferry': 906600.0, 'Rizky': 687600.0, 'Merla': 454050.0}\n",
      "{'Fadhil': 468600.0, 'Ferry': 906600.0, 'Rizky': 687600.0, 'Merla': 507600.0}\n"
     ]
    }
   ],
   "source": [
    "#KODE SALAH JANGAN DI RUN\n",
    "#total_bill += tax + service_charge\n",
    "#for name in individual_payments.keys():\n",
    "    #individual_payments[name] += (tax + service_charge) / 4\n",
    "    #print (individual_payments)"
   ]
  },
  {
   "cell_type": "code",
   "execution_count": 12,
   "id": "0ddf5a58",
   "metadata": {},
   "outputs": [
    {
     "name": "stdout",
     "output_type": "stream",
     "text": [
      "Total bill (including tax and service charge): IDR 2570400.00\n",
      "Equal split: IDR 642600.00 per person\n",
      "\n",
      "Amount to be paid by each person based on their orders:\n",
      "Fadhil: IDR 468600.00\n",
      "Ferry: IDR 906600.00\n",
      "Rizky: IDR 687600.00\n",
      "Merla: IDR 507600.00\n"
     ]
    }
   ],
   "source": [
    "#KODE SALAH JANGAN DI RUN\n",
    "#equal_split = total_bill / 4\n",
    "\n",
    "#print(f\"Total bill (including tax and service charge): IDR {total_bill:.2f}\")\n",
    "#print(f\"Equal split: IDR {equal_split:.2f} per person\")\n",
    "#print(\"\\nAmount to be paid by each person based on their orders:\")\n",
    "#for name, amount in individual_payments.items():\n",
    "    #print(f\"{name}: IDR {amount:.2f}\")"
   ]
  },
  {
   "cell_type": "code",
   "execution_count": 3,
   "id": "75f7261b",
   "metadata": {},
   "outputs": [],
   "source": [
    "total_items = 0\n",
    "individual_payments = {\"Fadhil\": 0, \"Ferry\": 0, \"Rizky\": 0, \"Merla\": 0}"
   ]
  },
  {
   "cell_type": "code",
   "execution_count": 4,
   "id": "7eb6d663",
   "metadata": {},
   "outputs": [],
   "source": [
    "for item, price, person in orders:\n",
    "    total_items += price\n",
    "    if person == \"All\":\n",
    "        for name in individual_payments.keys():\n",
    "            individual_payments[name] += price / 4\n",
    "    else:\n",
    "        individual_payments[person] += price"
   ]
  },
  {
   "cell_type": "code",
   "execution_count": 5,
   "id": "2f2a5b23",
   "metadata": {},
   "outputs": [
    {
     "name": "stdout",
     "output_type": "stream",
     "text": [
      "824670.0\n"
     ]
    }
   ],
   "source": [
    "# Service charge (5% of total items)\n",
    "service_charge = total_items * 0.05\n",
    "total_with_service = total_items + service_charge\n",
    "\n",
    "# Tax (10% of total with service charge)\n",
    "tax = total_with_service * 0.10\n",
    "total_bill = total_with_service + tax\n",
    "\n",
    "print (total_bill)"
   ]
  },
  {
   "cell_type": "code",
   "execution_count": 6,
   "id": "83013b10",
   "metadata": {},
   "outputs": [
    {
     "name": "stdout",
     "output_type": "stream",
     "text": [
      "825000\n"
     ]
    }
   ],
   "source": [
    "rounded_total_bill = round(total_bill / 3300) * 3300\n",
    "print (rounded_total_bill)"
   ]
  },
  {
   "cell_type": "code",
   "execution_count": 7,
   "id": "b8b05109",
   "metadata": {},
   "outputs": [
    {
     "name": "stdout",
     "output_type": "stream",
     "text": [
      "{'Fadhil': 148167.5, 'Ferry': 294167.5, 'Rizky': 221167.5, 'Merla': 161167.5}\n"
     ]
    }
   ],
   "source": [
    "shared_amount = (service_charge + tax) / 4\n",
    "for name in individual_payments.keys():\n",
    "    individual_payments[name] += shared_amount\n",
    "\n",
    "print (individual_payments)"
   ]
  },
  {
   "cell_type": "code",
   "execution_count": 9,
   "id": "ed157f83",
   "metadata": {},
   "outputs": [
    {
     "name": "stdout",
     "output_type": "stream",
     "text": [
      "206250.0\n"
     ]
    }
   ],
   "source": [
    "equal_split = rounded_total_bill / 4\n",
    "print (equal_split)"
   ]
  },
  {
   "cell_type": "code",
   "execution_count": 15,
   "id": "a2e72c1f",
   "metadata": {},
   "outputs": [
    {
     "name": "stdout",
     "output_type": "stream",
     "text": [
      "\n",
      "Amount to be paid by each person based on their orders:\n",
      "Fadhil: IDR 148,167.5\n",
      "Ferry: IDR 294,167.5\n",
      "Rizky: IDR 221,167.5\n",
      "Merla: IDR 161,167.5\n"
     ]
    }
   ],
   "source": [
    "print(\"\\nAmount to be paid by each person based on their orders:\")\n",
    "for name, amount in individual_payments.items():\n",
    "    formatted_amount = \"{:,}\".format(amount)\n",
    "    print(f\"{name}: IDR {formatted_amount}\")"
   ]
  },
  {
   "cell_type": "code",
   "execution_count": null,
   "id": "f047657b",
   "metadata": {},
   "outputs": [],
   "source": []
  }
 ],
 "metadata": {
  "kernelspec": {
   "display_name": "Python 3 (ipykernel)",
   "language": "python",
   "name": "python3"
  },
  "language_info": {
   "codemirror_mode": {
    "name": "ipython",
    "version": 3
   },
   "file_extension": ".py",
   "mimetype": "text/x-python",
   "name": "python",
   "nbconvert_exporter": "python",
   "pygments_lexer": "ipython3",
   "version": "3.11.5"
  }
 },
 "nbformat": 4,
 "nbformat_minor": 5
}
